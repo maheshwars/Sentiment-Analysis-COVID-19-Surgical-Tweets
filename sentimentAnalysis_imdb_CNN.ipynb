{
 "cells": [
  {
   "cell_type": "markdown",
   "metadata": {},
   "source": [
    "# Training on IMDB dataset for Sentiment Analysis - Convolutional Neural Networks"
   ]
  },
  {
   "cell_type": "markdown",
   "metadata": {},
   "source": [
    "## Loading the dataset\n",
    "\n",
    "IMDB dataset having **50K movie reviews for natural language processing** or Text analytics.\n",
    "This is a dataset for **binary sentiment classification** containing 50K movie reviews, **25K from each class**.\n",
    "\n",
    "It contains two columns - \n",
    "* **review** (text)\n",
    "* **sentiment** (positive or negative)"
   ]
  },
  {
   "cell_type": "code",
   "execution_count": null,
   "metadata": {
    "_cell_guid": "b1076dfc-b9ad-4769-8c92-a6c4dae69d19",
    "_uuid": "8f2839f25d086af736a60e9eeb907d3b93b6e0e5",
    "execution": {
     "iopub.status.busy": "2021-05-23T05:33:57.192602Z",
     "iopub.status.idle": "2021-05-23T05:33:57.193163Z"
    }
   },
   "outputs": [],
   "source": [
    "# This Python 3 environment comes with many helpful analytics libraries installed\n",
    "# It is defined by the kaggle/python Docker image: https://github.com/kaggle/docker-python\n",
    "# For example, here's several helpful packages to load\n",
    "\n",
    "import numpy as np # linear algebra\n",
    "import pandas as pd # data processing, CSV file I/O (e.g. pd.read_csv)\n",
    "\n",
    "# Input data files are available in the read-only \"../input/\" directory\n",
    "# For example, running this (by clicking run or pressing Shift+Enter) will list all files under the input directory\n",
    "\n",
    "import os\n",
    "for dirname, _, filenames in os.walk('/kaggle/input'):\n",
    "    for filename in filenames:\n",
    "        print(os.path.join(dirname, filename))\n",
    "\n",
    "# You can write up to 20GB to the current directory (/kaggle/working/) that gets preserved as output when you create a version using \"Save & Run All\" \n",
    "# You can also write temporary files to /kaggle/temp/, but they won't be saved outside of the current session"
   ]
  },
  {
   "cell_type": "code",
   "execution_count": 2,
   "metadata": {
    "execution": {
     "iopub.execute_input": "2021-05-23T05:33:57.208332Z",
     "iopub.status.busy": "2021-05-23T05:33:57.207972Z",
     "iopub.status.idle": "2021-05-23T05:33:59.002635Z",
     "shell.execute_reply": "2021-05-23T05:33:59.001464Z",
     "shell.execute_reply.started": "2021-05-23T05:33:57.208303Z"
    }
   },
   "outputs": [],
   "source": [
    "import re\n",
    "import string\n",
    "import numpy as np\n",
    "import pandas as pd\n",
    "\n",
    "from nltk.corpus import stopwords\n",
    "from nltk.stem import PorterStemmer \n",
    "from nltk.tokenize import TweetTokenizer\n",
    "\n",
    "import csv\n",
    "import os\n",
    "import unicodedata\n",
    "import codecs"
   ]
  },
  {
   "cell_type": "code",
   "execution_count": 3,
   "metadata": {
    "execution": {
     "iopub.execute_input": "2021-05-23T05:33:59.004814Z",
     "iopub.status.busy": "2021-05-23T05:33:59.004381Z",
     "iopub.status.idle": "2021-05-23T05:34:05.322704Z",
     "shell.execute_reply": "2021-05-23T05:34:05.321854Z",
     "shell.execute_reply.started": "2021-05-23T05:33:59.004769Z"
    }
   },
   "outputs": [],
   "source": [
    "import pandas as pd\n",
    "import numpy as np\n",
    "import matplotlib.pyplot as plt\n",
    "%matplotlib inline\n",
    "import tensorflow as tf\n",
    "from sklearn import model_selection, preprocessing, linear_model, naive_bayes, metrics, svm\n",
    "from sklearn.feature_extraction.text import TfidfVectorizer, CountVectorizer\n",
    "from tensorflow.keras.preprocessing.text import Tokenizer\n",
    "from tensorflow.keras.preprocessing.sequence import pad_sequences\n",
    "from nltk.tokenize import word_tokenize\n",
    "from keras.utils import to_categorical\n",
    "from keras.callbacks import EarlyStopping\n",
    "from keras.callbacks import ModelCheckpoint\n",
    "from keras.models import load_model\n"
   ]
  },
  {
   "cell_type": "code",
   "execution_count": 4,
   "metadata": {
    "execution": {
     "iopub.execute_input": "2021-05-23T05:34:05.325187Z",
     "iopub.status.busy": "2021-05-23T05:34:05.324583Z",
     "iopub.status.idle": "2021-05-23T05:34:10.827280Z",
     "shell.execute_reply": "2021-05-23T05:34:10.826448Z",
     "shell.execute_reply.started": "2021-05-23T05:34:05.325141Z"
    }
   },
   "outputs": [
    {
     "data": {
      "text/plain": [
       "<tensorflow.python.distribute.cluster_resolver.tpu.tpu_cluster_resolver.TPUClusterResolver at 0x7ff90b501750>"
      ]
     },
     "execution_count": 4,
     "metadata": {},
     "output_type": "execute_result"
    }
   ],
   "source": [
    "# detect and init the TPU\n",
    "tpu = tf.distribute.cluster_resolver.TPUClusterResolver.connect()\n",
    "tpu"
   ]
  },
  {
   "cell_type": "code",
   "execution_count": 5,
   "metadata": {
    "execution": {
     "iopub.execute_input": "2021-05-23T05:34:10.829038Z",
     "iopub.status.busy": "2021-05-23T05:34:10.828628Z",
     "iopub.status.idle": "2021-05-23T05:34:10.835311Z",
     "shell.execute_reply": "2021-05-23T05:34:10.834572Z",
     "shell.execute_reply.started": "2021-05-23T05:34:10.829009Z"
    }
   },
   "outputs": [],
   "source": [
    "# instantiate a distribution strategy\n",
    "tpu_strategy = tf.distribute.experimental.TPUStrategy(tpu)"
   ]
  },
  {
   "cell_type": "code",
   "execution_count": 6,
   "metadata": {
    "execution": {
     "iopub.execute_input": "2021-05-23T05:34:10.837122Z",
     "iopub.status.busy": "2021-05-23T05:34:10.836707Z",
     "iopub.status.idle": "2021-05-23T05:34:10.855229Z",
     "shell.execute_reply": "2021-05-23T05:34:10.853816Z",
     "shell.execute_reply.started": "2021-05-23T05:34:10.837092Z"
    }
   },
   "outputs": [
    {
     "name": "stdout",
     "output_type": "stream",
     "text": [
      "Num GPUs Available:  0\n"
     ]
    }
   ],
   "source": [
    "print(\"Num GPUs Available: \", len(tf.config.experimental.list_physical_devices('GPU')))"
   ]
  },
  {
   "cell_type": "code",
   "execution_count": 7,
   "metadata": {
    "execution": {
     "iopub.execute_input": "2021-05-23T05:34:10.857346Z",
     "iopub.status.busy": "2021-05-23T05:34:10.856905Z",
     "iopub.status.idle": "2021-05-23T05:34:12.989054Z",
     "shell.execute_reply": "2021-05-23T05:34:12.987842Z",
     "shell.execute_reply.started": "2021-05-23T05:34:10.857314Z"
    }
   },
   "outputs": [],
   "source": [
    "data = pd.read_csv('/kaggle/input/imdb-dataset-of-50k-movie-reviews/IMDB Dataset.csv')"
   ]
  },
  {
   "cell_type": "code",
   "execution_count": 8,
   "metadata": {
    "execution": {
     "iopub.execute_input": "2021-05-23T05:34:12.990626Z",
     "iopub.status.busy": "2021-05-23T05:34:12.990333Z",
     "iopub.status.idle": "2021-05-23T05:34:13.006151Z",
     "shell.execute_reply": "2021-05-23T05:34:13.003275Z",
     "shell.execute_reply.started": "2021-05-23T05:34:12.990588Z"
    }
   },
   "outputs": [],
   "source": [
    "data_X = data['review']\n",
    "data_Y = data['sentiment']"
   ]
  },
  {
   "cell_type": "markdown",
   "metadata": {},
   "source": [
    "## Text Preprocessing Function (for CNN)\n",
    "\n",
    "This `process_text` function prepares raw text data for use in a Convolutional Neural Network (CNN) for text classification. It performs the following steps:\n",
    "\n",
    "- **Contraction Expansion:** Replaces common English contractions (e.g., \"isn't\" to \"is not\") for uniformity.\n",
    "- **Special Character & Emoji Removal:** Cleans out special Unicode symbols, emojis, and other unusual characters.\n",
    "- **Compound Word Separation:** Fixes known concatenated words and tokenizes domain-specific compound phrases into separate words for improved parsing.\n",
    "- **Text Normalization:** Converts the entire text to lowercase.\n",
    "- **Prefix & HTML Removal:** Removes user mention prefixes and HTML line breaks for cleaner input.\n",
    "- **Hyperlink Removal:** Deletes hyperlinks to remove noise from text data.\n",
    "- **Punctuation Handling:** Ensures periods and commas are spaced properly to help downstream tokenization, while removing other punctuation symbols.\n",
    "- **Whitespace Cleanup:** Replaces multiple spaces with a single space and strips unwanted whitespace from the beginning and end.\n",
    "\n",
    "**Note:**  \n",
    "Unlike previous versions intended for models like Bag-of-Words, this version leaves out stopword removal and stemming steps—these adjustments make it more suitable for deep learning models such as CNNs, which can benefit from retaining original word forms and stopwords.\n",
    "\n",
    "The result is a clean, normalized string that preserves important sentence structure for neural network input."
   ]
  },
  {
   "cell_type": "code",
   "execution_count": 9,
   "metadata": {
    "execution": {
     "iopub.execute_input": "2021-05-23T05:34:13.009770Z",
     "iopub.status.busy": "2021-05-23T05:34:13.009313Z",
     "iopub.status.idle": "2021-05-23T05:34:13.038662Z",
     "shell.execute_reply": "2021-05-23T05:34:13.037746Z",
     "shell.execute_reply.started": "2021-05-23T05:34:13.009730Z"
    }
   },
   "outputs": [],
   "source": [
    "def process_text(line):\n",
    "    \n",
    "    #remove short\n",
    "    line=re.sub(\"isn't\",'is not',line)\n",
    "    line=re.sub(\"he's\",'he is',line)\n",
    "    line=re.sub(\"wasn't\",'was not',line)\n",
    "    line=re.sub(\"there's\",'there is',line)\n",
    "    line=re.sub(\"couldn't\",'could not',line)\n",
    "    line=re.sub(\"won't\",'will not',line)\n",
    "    line=re.sub(\"they're\",'they are',line)\n",
    "    line=re.sub(\"she's\",'she is',line)\n",
    "    line=re.sub(\"There's\",'there is',line)\n",
    "    line=re.sub(\"wouldn't\",'would not',line)\n",
    "    line=re.sub(\"haven't\",'have not',line)\n",
    "    line=re.sub(\"That's\",'That is',line)\n",
    "    line=re.sub(\"you've\",'you have',line)\n",
    "    line=re.sub(\"He's\",'He is',line)\n",
    "    line=re.sub(\"what's\",'what is',line)\n",
    "    line=re.sub(\"weren't\",'were not',line)\n",
    "    line=re.sub(\"we're\",'we are',line)\n",
    "    line=re.sub(\"hasn't\",'has not',line)\n",
    "    line=re.sub(\"you'd\",'you would',line)\n",
    "    line=re.sub(\"shouldn't\",'should not',line)\n",
    "    line=re.sub(\"let's\",'let us',line)\n",
    "    line=re.sub(\"they've\",'they have',line)\n",
    "    line=re.sub(\"You'll\",'You will',line)\n",
    "    line=re.sub(\"i'm\",'i am',line)\n",
    "    line=re.sub(\"we've\",'we have',line)\n",
    "    line=re.sub(\"it's\",'it is',line)\n",
    "    line=re.sub(\"don't\",'do not',line)\n",
    "    line=re.sub(\"that´s\",'that is',line)\n",
    "    line=re.sub(\"I´m\",'I am',line)\n",
    "    line=re.sub(\"it’s\",'it is',line)\n",
    "    line=re.sub(\"she´s\",'she is',line)\n",
    "    line=re.sub(\"he’s'\",'he is',line)\n",
    "    line=re.sub('I’m','I am',line)\n",
    "    line=re.sub('I’d','I did',line)\n",
    "    line=re.sub(\"he’s'\",'he is',line)\n",
    "    line=re.sub('there’s','there is',line)\n",
    "    line = re.sub(r'\\'ll', ' will',line)\n",
    "    \n",
    "    \n",
    "    #special characters and emojis\n",
    "    line=re.sub('\\x91the','the',line)\n",
    "    line=re.sub('\\x97','',line)\n",
    "    line=re.sub('\\x84the','the',line)\n",
    "    line=re.sub('\\uf0b7','',line)\n",
    "    line=re.sub('¡¨','',line)\n",
    "    line=re.sub('\\x95','',line)\n",
    "    line=re.sub('\\x8ei\\x9eek','',line)\n",
    "    line=re.sub('\\xad','',line)\n",
    "    line=re.sub('\\x84bubble','bubble',line)\n",
    "    \n",
    "    # remove concated words\n",
    "    line=re.sub('trivialBoring','trivial Boring',line)\n",
    "    line=re.sub('Justforkix','Just for kix',line)\n",
    "    line=re.sub('Nightbeast','Night beast',line)\n",
    "    line=re.sub('DEATHTRAP','Death Trap',line)\n",
    "    line=re.sub('CitizenX','Citizen X',line)\n",
    "    line=re.sub('10Rated','10 Rated',line)\n",
    "    line=re.sub('_The','_ The',line)\n",
    "    line=re.sub('1Sound','1 Sound',line)\n",
    "    line=re.sub('blahblahblahblahblahblahblahblahblahblahblahblahblahblahblahblahblahblah','blah blah',line)\n",
    "    line=re.sub('ResidentHazard','Resident Hazard',line)\n",
    "    line=re.sub('iameracing','i am racing',line)\n",
    "    line=re.sub('BLACKSNAKE','Black Snake',line)\n",
    "    line=re.sub('DEATHSTALKER','Death Stalker',line)\n",
    "    line=re.sub('_is_','is',line)\n",
    "    line=re.sub('10Fans','10 Fans',line)\n",
    "    line=re.sub('Yellowcoat','Yellow coat',line)\n",
    "    line=re.sub('Spiderbabe','Spider babe',line)\n",
    "    line=re.sub('Frightworld','Fright world',line)\n",
    "    \n",
    "    line = line.lower()\n",
    "    line = re.sub(r'^nrt@[a-z]+[\\s]*', '', line)\n",
    "    line = re.sub(r'^rt@[a-z]+[\\s]*', '', line)\n",
    "    line = re.sub(r'<br />', ' ', line)\n",
    "    \n",
    "    # remove hyperlinks\n",
    "    line = re.sub(r'https?:\\/\\/.*[\\r\\n]*', '', line)\n",
    "    # remove punctuation\n",
    "    line= re.sub(r\"\\.+\",r\" . \",line)\n",
    "    line=re.sub(',',' , ',line)\n",
    "    \n",
    "    line = re.sub(r'[!\"#$%&\\'()*+-]', '', line)\n",
    "    line = re.sub(r'[/:;<=>?@\\[\\]^_`{|}~\\\\]', '', line)\n",
    "    #remove and numbers\n",
    "    #line = re.sub(r'[0-9+]+','',line)\n",
    "    line = re.sub(r\"\\s+\", r\" \", line).strip()\n",
    "    #stopwords and stemming\n",
    "    #stopwords_english = stopwords.words('english')\n",
    "    #stemmer = PorterStemmer()\n",
    "    #text = \"\"\n",
    "    \n",
    "    #for word in line.split():\n",
    "        #if word not in stopwords_english:\n",
    "        #stem_word = stemmer.stem(word)\n",
    "        #text+=\" \"+stem_word\n",
    "        #text+=\" \" +word\n",
    "    \n",
    "    return line.strip()"
   ]
  },
  {
   "cell_type": "code",
   "execution_count": 10,
   "metadata": {
    "execution": {
     "iopub.execute_input": "2021-05-23T05:34:13.040544Z",
     "iopub.status.busy": "2021-05-23T05:34:13.040091Z",
     "iopub.status.idle": "2021-05-23T05:34:32.978843Z",
     "shell.execute_reply": "2021-05-23T05:34:32.977045Z",
     "shell.execute_reply.started": "2021-05-23T05:34:13.040513Z"
    }
   },
   "outputs": [],
   "source": [
    "train = []\n",
    "\n",
    "for t in data_X:\n",
    "    train.append(process_text(t).strip())"
   ]
  },
  {
   "cell_type": "markdown",
   "metadata": {},
   "source": [
    "## Loading Pre-trained GloVe Embeddings\n",
    "\n",
    "GloVe (Global Vectors for Word Representation) 300d refers to pre-trained word embeddings where each word is represented by a 300-dimensional continuous vector.  \n",
    "- These vectors capture semantic relationships between words based on their co-occurrence statistics in a large corpus.  \n",
    "- The 300-dimensional size provides a good balance between capturing rich linguistic information and computational efficiency.  \n",
    "- GloVe embeddings are widely used in NLP tasks to provide meaningful word representations that improve model performance.    \n",
    "- The loaded object typically contains a dictionary that maps words to their 300-dimensional vector representations.  \n",
    "- Using pre-trained embeddings helps improve model performance by providing rich word features without training from scratch."
   ]
  },
  {
   "cell_type": "code",
   "execution_count": 11,
   "metadata": {
    "execution": {
     "iopub.execute_input": "2021-05-23T05:34:32.981140Z",
     "iopub.status.busy": "2021-05-23T05:34:32.980501Z",
     "iopub.status.idle": "2021-05-23T05:35:04.826554Z",
     "shell.execute_reply": "2021-05-23T05:35:04.825521Z",
     "shell.execute_reply.started": "2021-05-23T05:34:32.981090Z"
    }
   },
   "outputs": [],
   "source": [
    "glove_embeddings= np.load('../input/pickled-glove840b300d-for-10sec-loading/glove.840B.300d.pkl',allow_pickle=True)"
   ]
  },
  {
   "cell_type": "markdown",
   "metadata": {},
   "source": [
    "### Preparing Text Data for Deep Learning\n",
    "\n",
    "This code block prepares text and label data for neural network training:\n",
    "\n",
    "- **Label Encoding:**  \n",
    "  Converts class labels (`Y`) from text to integers using `LabelEncoder`, making them usable for classification models.\n",
    "\n",
    "- **Tokenizer Setup:**  \n",
    "  - Initializes a Keras `Tokenizer` with a specified vocabulary size (`vocab_size`) and an out-of-vocabulary token (`<OOV>`) to handle unknown words.\n",
    "  - Fits the tokenizer on your training texts (`X`), learning a word-to-index mapping (`word_to_index`).\n",
    "\n",
    "- **Text to Sequences:**  \n",
    "  Transforms the list of text documents into sequences of integers (`X_sequences`), where each word is replaced by its corresponding index in the vocabulary.  \n",
    "  Words not encountered during fitting are replaced with the OOV index.\n",
    "\n",
    "**This preprocessing step converts raw text and class labels into numeric forms required for input into deep learning models such as CNNs, RNNs, or Transformers.**"
   ]
  },
  {
   "cell_type": "code",
   "execution_count": 12,
   "metadata": {
    "execution": {
     "iopub.execute_input": "2021-05-23T05:35:04.828197Z",
     "iopub.status.busy": "2021-05-23T05:35:04.827877Z",
     "iopub.status.idle": "2021-05-23T05:35:24.324199Z",
     "shell.execute_reply": "2021-05-23T05:35:24.323037Z",
     "shell.execute_reply.started": "2021-05-23T05:35:04.828165Z"
    }
   },
   "outputs": [],
   "source": [
    "#______________________Getting ready the data for training_______________________\n",
    "\n",
    "X=train\n",
    "Y=data_Y\n",
    "encoder = preprocessing.LabelEncoder()\n",
    "Y = encoder.fit_transform(Y)\n",
    "#___________________________________________________\n",
    "\n",
    "\n",
    "#_____________________________________________________\n",
    "vocab_size = 100000\n",
    "oov_tok= '<OOV>'\n",
    "\n",
    "tokenizer = Tokenizer(num_words = vocab_size, oov_token=oov_tok)\n",
    "tokenizer.fit_on_texts(X)\n",
    "word_to_index = tokenizer.word_index\n",
    "\n",
    "X_sequences = tokenizer.texts_to_sequences(X)"
   ]
  },
  {
   "cell_type": "markdown",
   "metadata": {},
   "source": [
    "### Padding Text Sequences for Neural Network Input\n",
    "\n",
    "Below code block prepares the tokenized text sequences (`X_sequences`) for input to a deep learning model by standardizing their lengths:\n",
    "\n",
    "- **Max Length:** Sets the length of all sequences to a fixed size (`max_length = 400`).\n",
    "- **Padding:**  \n",
    "  - Sequences shorter than `max_length` are padded with zeros **at the end** (`padding='post'`) to reach the fixed length.\n",
    "- **Truncating:**  \n",
    "  - Sequences longer than `max_length` are truncated **at the end** (`truncating='post'`) to fit the length limit.\n",
    "\n",
    "This ensures that all input sequences have the same length, which is **required when feeding data into models like CNNs or RNNs for training and inference.**"
   ]
  },
  {
   "cell_type": "code",
   "execution_count": 13,
   "metadata": {
    "execution": {
     "iopub.execute_input": "2021-05-23T05:35:24.326264Z",
     "iopub.status.busy": "2021-05-23T05:35:24.325846Z",
     "iopub.status.idle": "2021-05-23T05:35:26.642939Z",
     "shell.execute_reply": "2021-05-23T05:35:26.641829Z",
     "shell.execute_reply.started": "2021-05-23T05:35:24.326205Z"
    }
   },
   "outputs": [],
   "source": [
    "# padding to max length = 200\n",
    "max_length = 400\n",
    "padding_type = 'post'\n",
    "trunc_type = 'post'\n",
    "X_padded = pad_sequences(X_sequences, maxlen=max_length, padding=padding_type, truncating=trunc_type)"
   ]
  },
  {
   "cell_type": "code",
   "execution_count": 14,
   "metadata": {
    "execution": {
     "iopub.execute_input": "2021-05-23T05:35:26.644671Z",
     "iopub.status.busy": "2021-05-23T05:35:26.644257Z",
     "iopub.status.idle": "2021-05-23T05:35:26.691820Z",
     "shell.execute_reply": "2021-05-23T05:35:26.690744Z",
     "shell.execute_reply.started": "2021-05-23T05:35:26.644629Z"
    }
   },
   "outputs": [],
   "source": [
    "train_X, valid_X, train_Y, valid_Y = model_selection.train_test_split(X_padded, Y,test_size=0.2)"
   ]
  },
  {
   "cell_type": "markdown",
   "metadata": {},
   "source": [
    "### One-Hot Encoding of Labels\n",
    "\n",
    "The following code converts integer class labels (`train_Y` and `valid_Y`) into one-hot encoded vectors using Keras’ `to_categorical` function:\n",
    "\n",
    "- **Purpose:**  \n",
    "  Many neural network models for classification require labels in one-hot format instead of scalar integers.\n",
    "\n",
    "- **How it works:**  \n",
    "  - For `num_classes=2` (binary classification), each label is converted into a 2-element vector.  \n",
    "  - For example, class label 0 becomes `[1, 0]` and class label 1 becomes `[0, 1]`.\n",
    "\n",
    "- **Result:**  \n",
    "  - `train_labels` and `valid_labels` contain the one-hot encoded vectors for each sample in the training and validation sets, respectively, ready for use during model training.\n",
    "\n",
    "This step is essential when using categorical loss functions like `categorical_crossentropy` in Keras models."
   ]
  },
  {
   "cell_type": "code",
   "execution_count": 15,
   "metadata": {
    "execution": {
     "iopub.execute_input": "2021-05-23T05:35:26.693497Z",
     "iopub.status.busy": "2021-05-23T05:35:26.693188Z",
     "iopub.status.idle": "2021-05-23T05:35:26.699011Z",
     "shell.execute_reply": "2021-05-23T05:35:26.698053Z",
     "shell.execute_reply.started": "2021-05-23T05:35:26.693468Z"
    }
   },
   "outputs": [],
   "source": [
    "train_labels = to_categorical(train_Y,num_classes=2)\n",
    "valid_labels = to_categorical(valid_Y,num_classes=2)"
   ]
  },
  {
   "cell_type": "code",
   "execution_count": 16,
   "metadata": {
    "execution": {
     "iopub.execute_input": "2021-05-23T05:35:26.700699Z",
     "iopub.status.busy": "2021-05-23T05:35:26.700265Z",
     "iopub.status.idle": "2021-05-23T05:35:26.714051Z",
     "shell.execute_reply": "2021-05-23T05:35:26.713040Z",
     "shell.execute_reply.started": "2021-05-23T05:35:26.700663Z"
    }
   },
   "outputs": [
    {
     "data": {
      "text/plain": [
       "(40000, 2)"
      ]
     },
     "execution_count": 16,
     "metadata": {},
     "output_type": "execute_result"
    }
   ],
   "source": [
    "train_labels.shape"
   ]
  },
  {
   "cell_type": "code",
   "execution_count": 17,
   "metadata": {
    "execution": {
     "iopub.execute_input": "2021-05-23T05:35:26.716087Z",
     "iopub.status.busy": "2021-05-23T05:35:26.715631Z",
     "iopub.status.idle": "2021-05-23T05:35:26.728792Z",
     "shell.execute_reply": "2021-05-23T05:35:26.727645Z",
     "shell.execute_reply.started": "2021-05-23T05:35:26.716042Z"
    }
   },
   "outputs": [
    {
     "data": {
      "text/plain": [
       "(10000, 2)"
      ]
     },
     "execution_count": 17,
     "metadata": {},
     "output_type": "execute_result"
    }
   ],
   "source": [
    "valid_labels.shape"
   ]
  },
  {
   "cell_type": "code",
   "execution_count": 18,
   "metadata": {
    "execution": {
     "iopub.execute_input": "2021-05-23T05:35:26.730615Z",
     "iopub.status.busy": "2021-05-23T05:35:26.730238Z",
     "iopub.status.idle": "2021-05-23T05:35:26.745623Z",
     "shell.execute_reply": "2021-05-23T05:35:26.744368Z",
     "shell.execute_reply.started": "2021-05-23T05:35:26.730578Z"
    }
   },
   "outputs": [
    {
     "data": {
      "text/plain": [
       "(40000, 400)"
      ]
     },
     "execution_count": 18,
     "metadata": {},
     "output_type": "execute_result"
    }
   ],
   "source": [
    "train_X.shape"
   ]
  },
  {
   "cell_type": "markdown",
   "metadata": {},
   "source": [
    "### Embedding Matrix with GloVe Vectors\n",
    "\n",
    "This code creates an embedding matrix for vocabulary using pre-trained 300-dimensional GloVe vectors:\n",
    "\n",
    "- Initializes a zero matrix of shape `(vocab_size, 300)`.\n",
    "- Fills each row with the GloVe embedding for the corresponding word if available.\n",
    "- Words not in GloVe keep zero vectors.\n",
    "\n",
    "This matrix can initialize model’s embedding layer to use rich pre-trained word representations.\n"
   ]
  },
  {
   "cell_type": "code",
   "execution_count": 19,
   "metadata": {
    "execution": {
     "iopub.execute_input": "2021-05-23T05:35:26.747471Z",
     "iopub.status.busy": "2021-05-23T05:35:26.746821Z",
     "iopub.status.idle": "2021-05-23T05:35:27.285788Z",
     "shell.execute_reply": "2021-05-23T05:35:27.284715Z",
     "shell.execute_reply.started": "2021-05-23T05:35:26.747428Z"
    }
   },
   "outputs": [],
   "source": [
    "vocab_size = len(word_to_index)\n",
    "embeddings_matrix = np.zeros((vocab_size, 300))\n",
    "for word, i in list(word_to_index.items())[:vocab_size]:\n",
    "    embedding_vector = glove_embeddings.get(word)\n",
    "    if embedding_vector is not None:\n",
    "        embeddings_matrix[i] = embedding_vector"
   ]
  },
  {
   "cell_type": "code",
   "execution_count": 20,
   "metadata": {
    "execution": {
     "iopub.execute_input": "2021-05-23T05:35:27.287350Z",
     "iopub.status.busy": "2021-05-23T05:35:27.287062Z",
     "iopub.status.idle": "2021-05-23T05:35:27.293835Z",
     "shell.execute_reply": "2021-05-23T05:35:27.292527Z",
     "shell.execute_reply.started": "2021-05-23T05:35:27.287322Z"
    }
   },
   "outputs": [
    {
     "data": {
      "text/plain": [
       "(148518, 300)"
      ]
     },
     "execution_count": 20,
     "metadata": {},
     "output_type": "execute_result"
    }
   ],
   "source": [
    "embeddings_matrix.shape"
   ]
  },
  {
   "cell_type": "markdown",
   "metadata": {},
   "source": [
    "## CNN Model Architecture Explanation\n",
    "\n",
    "Below code builds a text classification model using Keras with the following structure:\n",
    "\n",
    "- **Embedding Layer:**  \n",
    "  - Converts word indices into dense 300-dimensional vectors using the pre-trained GloVe embeddings (`embeddings_matrix`).\n",
    "  - `trainable=False` keeps the embeddings fixed during training.\n",
    "  - `input_length=400` sets each input sequence to be 400 tokens long.\n",
    "\n",
    "- **Conv1D Layer:**  \n",
    "  - Applies 160 filters (feature detectors) with a kernel size of 10 over the sequence.\n",
    "  - Extracts local n-gram features (subsequences of 10 words) using the ReLU activation function.\n",
    "\n",
    "- **MaxPooling1D Layer:**  \n",
    "  - Downsamples the output of the convolution by taking the maximum value over windows of size 3, helping to reduce dimensionality and focus on the most important features.\n",
    "\n",
    "- **Flatten Layer:**  \n",
    "  - Converts the 2D matrix output from the previous layer into a 1D vector to prepare it for the dense layer(s).\n",
    "\n",
    "- **Dropout Layer:**  \n",
    "  - Randomly sets 40% of inputs to zero during training (`Dropout(0.4)`).\n",
    "  - Helps prevent overfitting by encouraging the network to be less dependent on specific features.\n",
    "\n",
    "- **Dense Output Layer:**  \n",
    "  - Fully connected layer with 2 units (for binary or two-class classification).\n",
    "  - Uses `softmax` activation to produce probabilities for each class.\n",
    "\n",
    "**Model Summary**  \n",
    "This architecture combines pre-trained word embeddings, 1D convolution for local feature extraction, pooling for dimension reduction, and a dense output layer for classification. It is well-suited for text classification tasks on sequences padded to length 400, and it utilizes TPU acceleration for training.\n"
   ]
  },
  {
   "cell_type": "code",
   "execution_count": 39,
   "metadata": {
    "execution": {
     "iopub.execute_input": "2021-05-23T05:42:38.849975Z",
     "iopub.status.busy": "2021-05-23T05:42:38.849526Z",
     "iopub.status.idle": "2021-05-23T05:42:41.459854Z",
     "shell.execute_reply": "2021-05-23T05:42:41.458834Z",
     "shell.execute_reply.started": "2021-05-23T05:42:38.849936Z"
    }
   },
   "outputs": [
    {
     "name": "stdout",
     "output_type": "stream",
     "text": [
      "Model: \"sequential_5\"\n",
      "_________________________________________________________________\n",
      "Layer (type)                 Output Shape              Param #   \n",
      "=================================================================\n",
      "embedding_5 (Embedding)      (None, 400, 300)          44555400  \n",
      "_________________________________________________________________\n",
      "conv1d_5 (Conv1D)            (None, 391, 160)          480160    \n",
      "_________________________________________________________________\n",
      "max_pooling1d_5 (MaxPooling1 (None, 130, 160)          0         \n",
      "_________________________________________________________________\n",
      "flatten_5 (Flatten)          (None, 20800)             0         \n",
      "_________________________________________________________________\n",
      "dropout_5 (Dropout)          (None, 20800)             0         \n",
      "_________________________________________________________________\n",
      "dense_8 (Dense)              (None, 2)                 41602     \n",
      "=================================================================\n",
      "Total params: 45,077,162\n",
      "Trainable params: 521,762\n",
      "Non-trainable params: 44,555,400\n",
      "_________________________________________________________________\n"
     ]
    }
   ],
   "source": [
    "embedding_dim = 300\n",
    "with tpu_strategy.scope():\n",
    "    model = tf.keras.Sequential([tf.keras.layers.Embedding(vocab_size,embedding_dim ,\n",
    "                embeddings_initializer=tf.keras.initializers.Constant(embeddings_matrix),input_length=400,trainable=False),\n",
    "            \n",
    "            tf.keras.layers.Conv1D(filters=160, kernel_size=10, padding='valid', activation='relu'),\n",
    "            tf.keras.layers.MaxPooling1D(pool_size=3),               \n",
    "            tf.keras.layers.Flatten(),\n",
    "            #tf.keras.layers.Dense(32,activation='relu'),\n",
    "            tf.keras.layers.Dropout(0.4),\n",
    "            tf.keras.layers.Dense(2, activation='softmax')])\n",
    "\n",
    "model.summary()"
   ]
  },
  {
   "cell_type": "code",
   "execution_count": 40,
   "metadata": {
    "execution": {
     "iopub.execute_input": "2021-05-23T05:42:42.841162Z",
     "iopub.status.busy": "2021-05-23T05:42:42.840722Z",
     "iopub.status.idle": "2021-05-23T05:42:43.134377Z",
     "shell.execute_reply": "2021-05-23T05:42:43.133166Z",
     "shell.execute_reply.started": "2021-05-23T05:42:42.841128Z"
    }
   },
   "outputs": [
    {
     "data": {
      "image/png": "[encoded data removed]",
      "text/plain": [
       "<IPython.core.display.Image object>"
      ]
     },
     "execution_count": 40,
     "metadata": {},
     "output_type": "execute_result"
    }
   ],
   "source": [
    "tf.keras.utils.plot_model(model)"
   ]
  },
  {
   "cell_type": "code",
   "execution_count": 41,
   "metadata": {
    "execution": {
     "iopub.execute_input": "2021-05-23T05:42:43.885408Z",
     "iopub.status.busy": "2021-05-23T05:42:43.885027Z",
     "iopub.status.idle": "2021-05-23T05:43:10.619553Z",
     "shell.execute_reply": "2021-05-23T05:43:10.618213Z",
     "shell.execute_reply.started": "2021-05-23T05:42:43.885372Z"
    }
   },
   "outputs": [
    {
     "name": "stdout",
     "output_type": "stream",
     "text": [
      "Epoch 1/20\n",
      "79/79 - 14s - loss: 0.5582 - accuracy: 0.7128 - val_loss: 0.4344 - val_accuracy: 0.8031\n",
      "Epoch 2/20\n",
      "79/79 - 1s - loss: 0.3760 - accuracy: 0.8406 - val_loss: 0.3536 - val_accuracy: 0.8501\n",
      "Epoch 3/20\n",
      "79/79 - 1s - loss: 0.3212 - accuracy: 0.8690 - val_loss: 0.3979 - val_accuracy: 0.8311\n",
      "Epoch 4/20\n",
      "79/79 - 1s - loss: 0.2887 - accuracy: 0.8863 - val_loss: 0.3194 - val_accuracy: 0.8670\n",
      "Epoch 5/20\n",
      "79/79 - 1s - loss: 0.2441 - accuracy: 0.9076 - val_loss: 0.3208 - val_accuracy: 0.8649\n",
      "Epoch 6/20\n",
      "79/79 - 1s - loss: 0.2101 - accuracy: 0.9255 - val_loss: 0.3098 - val_accuracy: 0.8720\n",
      "Epoch 7/20\n",
      "79/79 - 1s - loss: 0.1750 - accuracy: 0.9413 - val_loss: 0.3673 - val_accuracy: 0.8540\n",
      "Epoch 8/20\n",
      "79/79 - 1s - loss: 0.1510 - accuracy: 0.9521 - val_loss: 0.3352 - val_accuracy: 0.8651\n",
      "Epoch 9/20\n",
      "79/79 - 1s - loss: 0.1228 - accuracy: 0.9659 - val_loss: 0.3185 - val_accuracy: 0.8711\n",
      "Epoch 10/20\n",
      "79/79 - 1s - loss: 0.1058 - accuracy: 0.9704 - val_loss: 0.3676 - val_accuracy: 0.8584\n",
      "Epoch 11/20\n",
      "79/79 - 1s - loss: 0.0925 - accuracy: 0.9761 - val_loss: 0.3248 - val_accuracy: 0.8745\n",
      "Epoch 00011: early stopping\n"
     ]
    }
   ],
   "source": [
    "num_epochs=20\n",
    "optimizer = tf.keras.optimizers.Adam(learning_rate = 0.0005)\n",
    "loss = tf.keras.losses.BinaryCrossentropy()\n",
    "metric = tf.keras.metrics.BinaryAccuracy()\n",
    "model.compile(loss=loss, \n",
    "          optimizer=optimizer, metrics=['accuracy'])\n",
    "es = EarlyStopping(monitor='val_loss', mode='min', verbose=1, patience=5)\n",
    "#mc = ModelCheckpoint('best_model.h5', monitor='val_accuracy', mode='max', verbose=1, save_best_only=True)\n",
    "#with tf.device('/device:GPU:0'):\n",
    "history = model.fit(train_X,train_labels , epochs=num_epochs,validation_data=(valid_X,valid_labels),\n",
    "                        batch_size=128*4, callbacks=[es,],verbose=2)"
   ]
  },
  {
   "cell_type": "code",
   "execution_count": 42,
   "metadata": {
    "execution": {
     "iopub.execute_input": "2021-05-23T05:43:14.519054Z",
     "iopub.status.busy": "2021-05-23T05:43:14.518510Z",
     "iopub.status.idle": "2021-05-23T05:43:14.872248Z",
     "shell.execute_reply": "2021-05-23T05:43:14.871450Z",
     "shell.execute_reply.started": "2021-05-23T05:43:14.519018Z"
    }
   },
   "outputs": [
    {
     "data": {
      "image/png": "[encoded data removed]",
      "text/plain": [
       "<Figure size 432x288 with 1 Axes>"
      ]
     },
     "metadata": {
      "needs_background": "light"
     },
     "output_type": "display_data"
    },
    {
     "data": {
      "image/png": "[encoded data removed]",
      "text/plain": [
       "<Figure size 432x288 with 1 Axes>"
      ]
     },
     "metadata": {
      "needs_background": "light"
     },
     "output_type": "display_data"
    }
   ],
   "source": [
    "def plot_graphs(history, string):\n",
    "  plt.plot(history.history[string])\n",
    "  plt.plot(history.history['val_'+string])\n",
    "  plt.xlabel(\"Epochs\")\n",
    "  plt.ylabel(string)\n",
    "  plt.legend([string, 'val_'+string])\n",
    "  plt.show()\n",
    "  \n",
    "plot_graphs(history, \"accuracy\")\n",
    "plot_graphs(history, \"loss\")"
   ]
  },
  {
   "cell_type": "code",
   "execution_count": 43,
   "metadata": {
    "execution": {
     "iopub.execute_input": "2021-05-23T05:43:27.615956Z",
     "iopub.status.busy": "2021-05-23T05:43:27.615394Z",
     "iopub.status.idle": "2021-05-23T05:43:32.604988Z",
     "shell.execute_reply": "2021-05-23T05:43:32.603853Z",
     "shell.execute_reply.started": "2021-05-23T05:43:27.615897Z"
    }
   },
   "outputs": [],
   "source": [
    "y_pred=model.predict(valid_X)\n",
    "y_pred_classes = np.argmax(y_pred, axis=-1)"
   ]
  },
  {
   "cell_type": "code",
   "execution_count": 44,
   "metadata": {
    "execution": {
     "iopub.execute_input": "2021-05-23T05:43:34.146438Z",
     "iopub.status.busy": "2021-05-23T05:43:34.146028Z",
     "iopub.status.idle": "2021-05-23T05:43:34.151690Z",
     "shell.execute_reply": "2021-05-23T05:43:34.150772Z",
     "shell.execute_reply.started": "2021-05-23T05:43:34.146402Z"
    }
   },
   "outputs": [],
   "source": [
    "from sklearn.metrics import accuracy_score\n",
    "from sklearn.metrics import precision_score\n",
    "from sklearn.metrics import recall_score\n",
    "from sklearn.metrics import f1_score\n",
    "from sklearn.metrics import cohen_kappa_score\n",
    "from sklearn.metrics import roc_auc_score\n",
    "from sklearn.metrics import confusion_matrix\n",
    "from sklearn.metrics import matthews_corrcoef"
   ]
  },
  {
   "cell_type": "code",
   "execution_count": 45,
   "metadata": {
    "execution": {
     "iopub.execute_input": "2021-05-23T05:43:35.386879Z",
     "iopub.status.busy": "2021-05-23T05:43:35.386337Z",
     "iopub.status.idle": "2021-05-23T05:43:35.433802Z",
     "shell.execute_reply": "2021-05-23T05:43:35.431861Z",
     "shell.execute_reply.started": "2021-05-23T05:43:35.386845Z"
    }
   },
   "outputs": [
    {
     "name": "stdout",
     "output_type": "stream",
     "text": [
      "Accuracy: 0.874500\n",
      "Precision: 0.880692\n",
      "Recall: 0.863434\n",
      "F1 score: 0.871978\n",
      "MCC : 0.749067\n"
     ]
    }
   ],
   "source": [
    "accuracy = accuracy_score(valid_Y, y_pred_classes)\n",
    "print('Accuracy: %f' % accuracy)\n",
    "# precision tp / (tp + fp)\n",
    "precision = precision_score(valid_Y, y_pred_classes)\n",
    "print('Precision: %f' % precision)\n",
    "# recall: tp / (tp + fn)\n",
    "recall = recall_score(valid_Y, y_pred_classes)\n",
    "print('Recall: %f' % recall)\n",
    "# f1: 2 tp / (2 tp + fp + fn)\n",
    "f1 = f1_score(valid_Y, y_pred_classes)\n",
    "print('F1 score: %f' % f1)\n",
    "# Matthews Correaltion Coefficient\n",
    "mcc =  matthews_corrcoef(valid_Y, y_pred_classes)\n",
    "print('MCC : %f' % mcc)"
   ]
  },
  {
   "cell_type": "code",
   "execution_count": 46,
   "metadata": {
    "execution": {
     "iopub.execute_input": "2021-05-23T05:43:36.886080Z",
     "iopub.status.busy": "2021-05-23T05:43:36.885662Z",
     "iopub.status.idle": "2021-05-23T05:43:36.931860Z",
     "shell.execute_reply": "2021-05-23T05:43:36.930728Z",
     "shell.execute_reply.started": "2021-05-23T05:43:36.886036Z"
    }
   },
   "outputs": [
    {
     "name": "stdout",
     "output_type": "stream",
     "text": [
      "Cohens kappa: 0.748926\n",
      "ROC AUC: 0.874390\n",
      "confusion matrix:\n",
      "[[4471  579]\n",
      " [ 676 4274]]\n"
     ]
    }
   ],
   "source": [
    "kappa = cohen_kappa_score(valid_Y, y_pred_classes)\n",
    "print('Cohens kappa: %f' % kappa)\n",
    "# ROC AUC\n",
    "auc = roc_auc_score(valid_Y,y_pred_classes)\n",
    "print('ROC AUC: %f' % auc)\n",
    "print(\"confusion matrix:\")\n",
    "matrix = confusion_matrix(valid_Y, y_pred_classes)\n",
    "print(matrix)"
   ]
  },
  {
   "cell_type": "code",
   "execution_count": null,
   "metadata": {},
   "outputs": [],
   "source": []
  }
 ],
 "metadata": {
  "kernelspec": {
   "display_name": "Python 3 (ipykernel)",
   "language": "python",
   "name": "python3"
  },
  "language_info": {
   "codemirror_mode": {
    "name": "ipython",
    "version": 3
   },
   "file_extension": ".py",
   "mimetype": "text/x-python",
   "name": "python",
   "nbconvert_exporter": "python",
   "pygments_lexer": "ipython3",
   "version": "3.13.2"
  }
 },
 "nbformat": 4,
 "nbformat_minor": 4
}
